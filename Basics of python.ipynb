{
 "cells": [
  {
   "cell_type": "markdown",
   "id": "eaa60231",
   "metadata": {},
   "source": [
    "# Prime Numbers"
   ]
  },
  {
   "cell_type": "markdown",
   "id": "50ef8a63",
   "metadata": {},
   "source": [
    "Write a Python program that checks whether a given number is prime or not. A prime number is a natural number greater than 1 that has no positive divisors other than 1 and itself."
   ]
  },
  {
   "cell_type": "code",
   "execution_count": 3,
   "id": "b9497237",
   "metadata": {},
   "outputs": [
    {
     "name": "stdout",
     "output_type": "stream",
     "text": [
      "Enter a number to check if it is prime: 1\n",
      "1 is not a prime number.\n"
     ]
    }
   ],
   "source": [
    "def is_prime(n):\n",
    "    \"\"\"\n",
    "    Check if the given number n is prime.\n",
    "\n",
    "    Args:\n",
    "    n (int): The number to check.\n",
    "\n",
    "    Returns:\n",
    "    bool: True if n is prime, False otherwise.\n",
    "    \"\"\"\n",
    "    if n <= 1:\n",
    "        return False\n",
    "    if n <= 3:\n",
    "        return True\n",
    "    if n % 2 == 0 or n % 3 == 0:\n",
    "        return False\n",
    "    \n",
    "    i = 5\n",
    "    while i * i <= n:\n",
    "        if n % i == 0 or n % (i + 2) == 0:\n",
    "            return False\n",
    "        i += 6\n",
    "    \n",
    "    return True\n",
    "\n",
    "# Example usage\n",
    "number = int(input(\"Enter a number to check if it is prime: \"))\n",
    "if is_prime(number):\n",
    "    print(f\"{number} is a prime number.\")\n",
    "else:\n",
    "    print(f\"{number} is not a prime number.\")\n"
   ]
  },
  {
   "cell_type": "markdown",
   "id": "146aaffa",
   "metadata": {},
   "source": [
    "# Product of Random Numbers"
   ]
  },
  {
   "cell_type": "markdown",
   "id": "7f489731",
   "metadata": {},
   "source": [
    "Develop a Python program that generates two random numbers and asks the user to enter the product of these numbers. The program should then check if the user's answer is correct and display an appropriate message."
   ]
  },
  {
   "cell_type": "code",
   "execution_count": 4,
   "id": "e620c6c1",
   "metadata": {},
   "outputs": [
    {
     "name": "stdout",
     "output_type": "stream",
     "text": [
      "Enter the product of 5 and 10: \n",
      "6\n",
      "Incorrect. The correct answer is 50.\n"
     ]
    }
   ],
   "source": [
    "import random\n",
    "\n",
    "def generate_random_numbers():\n",
    "    \"\"\"\n",
    "    Generate two random integers between 1 and 10 (inclusive).\n",
    "\n",
    "    Returns:\n",
    "    tuple: A tuple containing two random integers.\n",
    "    \"\"\"\n",
    "    num1 = random.randint(1, 10)\n",
    "    num2 = random.randint(1, 10)\n",
    "    return num1, num2\n",
    "\n",
    "def main():\n",
    "    # Generate two random numbers\n",
    "    num1, num2 = generate_random_numbers()\n",
    "    \n",
    "    # Ask the user to enter the product of the two numbers\n",
    "    print(f\"Enter the product of {num1} and {num2}: \")\n",
    "    user_answer = int(input())\n",
    "    \n",
    "    # Calculate the correct answer\n",
    "    correct_answer = num1 * num2\n",
    "    \n",
    "    # Check if the user's answer is correct\n",
    "    if user_answer == correct_answer:\n",
    "        print(\"Correct! Well done.\")\n",
    "    else:\n",
    "        print(f\"Incorrect. The correct answer is {correct_answer}.\")\n",
    "\n",
    "# Run the main function\n",
    "if __name__ == \"__main__\":\n",
    "    main()\n"
   ]
  },
  {
   "cell_type": "markdown",
   "id": "8f962a6b",
   "metadata": {},
   "source": [
    "# Squares of Even/Odd Numbers "
   ]
  },
  {
   "cell_type": "markdown",
   "id": "c5648c03",
   "metadata": {},
   "source": [
    "Create a Python script that prints the squares of all even or odd numbers within the range of 100 to 200. Choose either even or odd numbers and document your choice in the code"
   ]
  },
  {
   "cell_type": "code",
   "execution_count": 5,
   "id": "37706ecf",
   "metadata": {},
   "outputs": [
    {
     "name": "stdout",
     "output_type": "stream",
     "text": [
      "The square of 100 is 10000\n",
      "The square of 102 is 10404\n",
      "The square of 104 is 10816\n",
      "The square of 106 is 11236\n",
      "The square of 108 is 11664\n",
      "The square of 110 is 12100\n",
      "The square of 112 is 12544\n",
      "The square of 114 is 12996\n",
      "The square of 116 is 13456\n",
      "The square of 118 is 13924\n",
      "The square of 120 is 14400\n",
      "The square of 122 is 14884\n",
      "The square of 124 is 15376\n",
      "The square of 126 is 15876\n",
      "The square of 128 is 16384\n",
      "The square of 130 is 16900\n",
      "The square of 132 is 17424\n",
      "The square of 134 is 17956\n",
      "The square of 136 is 18496\n",
      "The square of 138 is 19044\n",
      "The square of 140 is 19600\n",
      "The square of 142 is 20164\n",
      "The square of 144 is 20736\n",
      "The square of 146 is 21316\n",
      "The square of 148 is 21904\n",
      "The square of 150 is 22500\n",
      "The square of 152 is 23104\n",
      "The square of 154 is 23716\n",
      "The square of 156 is 24336\n",
      "The square of 158 is 24964\n",
      "The square of 160 is 25600\n",
      "The square of 162 is 26244\n",
      "The square of 164 is 26896\n",
      "The square of 166 is 27556\n",
      "The square of 168 is 28224\n",
      "The square of 170 is 28900\n",
      "The square of 172 is 29584\n",
      "The square of 174 is 30276\n",
      "The square of 176 is 30976\n",
      "The square of 178 is 31684\n",
      "The square of 180 is 32400\n",
      "The square of 182 is 33124\n",
      "The square of 184 is 33856\n",
      "The square of 186 is 34596\n",
      "The square of 188 is 35344\n",
      "The square of 190 is 36100\n",
      "The square of 192 is 36864\n",
      "The square of 194 is 37636\n",
      "The square of 196 is 38416\n",
      "The square of 198 is 39204\n",
      "The square of 200 is 40000\n"
     ]
    }
   ],
   "source": [
    "def print_even_squares(start, end):\n",
    "    \"\"\"\n",
    "    Print the squares of all even numbers within the specified range.\n",
    "\n",
    "    Args:\n",
    "    start (int): The start of the range (inclusive).\n",
    "    end (int): The end of the range (inclusive).\n",
    "    \"\"\"\n",
    "    for number in range(start, end + 1):\n",
    "        if number % 2 == 0:\n",
    "            print(f\"The square of {number} is {number ** 2}\")\n",
    "\n",
    "# Define the range\n",
    "start_range = 100\n",
    "end_range = 200\n",
    "\n",
    "# Print the squares of even numbers in the specified range\n",
    "print_even_squares(start_range, end_range)\n"
   ]
  },
  {
   "cell_type": "markdown",
   "id": "f1eea955",
   "metadata": {},
   "source": [
    "# Word counter"
   ]
  },
  {
   "cell_type": "markdown",
   "id": "da2b0ff6",
   "metadata": {},
   "source": [
    "write a program to count the number of words in a given text."
   ]
  },
  {
   "cell_type": "code",
   "execution_count": 6,
   "id": "1db6b05a",
   "metadata": {},
   "outputs": [
    {
     "name": "stdout",
     "output_type": "stream",
     "text": [
      "'this': 2\n",
      "'is': 1\n",
      "'a': 1\n",
      "'sample': 1\n",
      "'text': 2\n",
      "'will': 1\n",
      "'be': 1\n",
      "'used': 1\n",
      "'to': 1\n",
      "'demonstrate': 1\n",
      "'the': 1\n",
      "'word': 1\n",
      "'counter': 1\n"
     ]
    }
   ],
   "source": [
    "import re\n",
    "from collections import Counter\n",
    "\n",
    "def count_words(text):\n",
    "    \"\"\"\n",
    "    Count the number of occurrences of each word in the given text.\n",
    "\n",
    "    Args:\n",
    "    text (str): The input text.\n",
    "\n",
    "    Returns:\n",
    "    dict: A dictionary with words as keys and their counts as values.\n",
    "    \"\"\"\n",
    "    # Use a regular expression to split the text into words\n",
    "    words = re.findall(r'\\b\\w+\\b', text.lower())\n",
    "    \n",
    "    # Count the occurrences of each word\n",
    "    word_counts = Counter(words)\n",
    "    \n",
    "    return word_counts\n",
    "\n",
    "# Example input text\n",
    "input_text = \"This is a sample text. This text will be used to demonstrate the word counter.\"\n",
    "\n",
    "# Count words in the input text\n",
    "word_counts = count_words(input_text)\n",
    "\n",
    "# Print the word counts\n",
    "for word, count in word_counts.items():\n",
    "    print(f\"'{word}': {count}\")\n"
   ]
  },
  {
   "cell_type": "markdown",
   "id": "bb22f099",
   "metadata": {},
   "source": [
    "# Check for Palindrome"
   ]
  },
  {
   "cell_type": "markdown",
   "id": "7bed6d20",
   "metadata": {},
   "source": [
    "Write a Python function called is_palindrome that takes a string as input and returns True if the string is a palindrome, and False otherwise. A palindrome is a word, phrase, number, or other sequence of characters that reads the same forward and backward, ignoring spaces, punctuation, and capitalization."
   ]
  },
  {
   "cell_type": "code",
   "execution_count": 7,
   "id": "f27a0467",
   "metadata": {},
   "outputs": [
    {
     "name": "stdout",
     "output_type": "stream",
     "text": [
      "True\n",
      "True\n",
      "False\n"
     ]
    }
   ],
   "source": [
    "import re\n",
    "\n",
    "def is_palindrome(s):\n",
    "    \"\"\"\n",
    "    Check if the given string s is a palindrome.\n",
    "\n",
    "    Args:\n",
    "    s (str): The string to check.\n",
    "\n",
    "    Returns:\n",
    "    bool: True if s is a palindrome, False otherwise.\n",
    "    \"\"\"\n",
    "    # Remove all non-alphanumeric characters and convert to lowercase\n",
    "    cleaned_str = re.sub(r'[^A-Za-z0-9]', '', s).lower()\n",
    "    \n",
    "    # Check if the cleaned string is equal to its reverse\n",
    "    return cleaned_str == cleaned_str[::-1]\n",
    "\n",
    "# Example usage\n",
    "input_string = \"racecar\"\n",
    "print(is_palindrome(input_string))  # Expected output: True\n",
    "\n",
    "input_string = \"A man, a plan, a canal, Panama\"\n",
    "print(is_palindrome(input_string))  # Expected output: True\n",
    "\n",
    "input_string = \"hello\"\n",
    "print(is_palindrome(input_string))  # Expected output: False\n"
   ]
  },
  {
   "cell_type": "code",
   "execution_count": null,
   "id": "077983ed",
   "metadata": {},
   "outputs": [],
   "source": []
  }
 ],
 "metadata": {
  "kernelspec": {
   "display_name": "Python 3 (ipykernel)",
   "language": "python",
   "name": "python3"
  },
  "language_info": {
   "codemirror_mode": {
    "name": "ipython",
    "version": 3
   },
   "file_extension": ".py",
   "mimetype": "text/x-python",
   "name": "python",
   "nbconvert_exporter": "python",
   "pygments_lexer": "ipython3",
   "version": "3.9.13"
  }
 },
 "nbformat": 4,
 "nbformat_minor": 5
}
